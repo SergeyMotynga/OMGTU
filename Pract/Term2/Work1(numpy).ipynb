{
 "cells": [
  {
   "cell_type": "code",
   "execution_count": 89,
   "metadata": {},
   "outputs": [
    {
     "name": "stdout",
     "output_type": "stream",
     "text": [
      "Пункт 1\n",
      " 10 12 14 16 18 20 22 24 26 28 30 32 34 36 38 40 42 44 46 48 50 52 54 56 58 60 62 64 66 68\n",
      "Пункт 2\n",
      "10 20 30 40 50 60\n",
      "12 22 32 42 52 62\n",
      "14 24 34 44 54 64\n",
      "16 26 36 46 56 66\n",
      "18 28 38 48 58 68\n",
      "Пункт 3\n",
      "20 25 30 35 40\n",
      "50 55 60 65 70\n",
      "75 80 85 90 95\n",
      "100 105 110 115 120\n",
      "125 130 135 140 145\n",
      "150 155 160 165 170\n"
     ]
    }
   ],
   "source": [
    "import numpy as n\n",
    "\n",
    "# Пункт №1. Создание и вывод матрицы с шагом 2.\n",
    "my_array = n.arange(10, 70, 2)\n",
    "print(\"Пункт 1\\n\", *my_array)\n",
    "\n",
    "# Пункт №2. Преобразование my_array в матрицу A(6x5), трансопнация матрицы А.\n",
    "A = my_array.reshape(6, 5).T\n",
    "print(\"Пункт 2\",*[str(row)[1:-1] for row in A], sep='\\n')\n",
    "\n",
    "# Пункт №3. Все элементы матрицы умножены на 2.5, из каждого элемента в одной строке вычтено 5.\n",
    "A = A.dot(2.5)\n",
    "A = n.round(A.transpose()).astype(int)\n",
    "A[0] = A[0]-5\n",
    "print(\"Пункт 3\",*[str(row)[1:-1] for row in A], sep='\\n')"
   ]
  }
 ],
 "metadata": {
  "kernelspec": {
   "display_name": "Python 3",
   "language": "python",
   "name": "python3"
  },
  "language_info": {
   "codemirror_mode": {
    "name": "ipython",
    "version": 3
   },
   "file_extension": ".py",
   "mimetype": "text/x-python",
   "name": "python",
   "nbconvert_exporter": "python",
   "pygments_lexer": "ipython3",
   "version": "3.12.6"
  }
 },
 "nbformat": 4,
 "nbformat_minor": 2
}
