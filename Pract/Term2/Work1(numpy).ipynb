{
 "cells": [
  {
   "cell_type": "code",
   "execution_count": null,
   "metadata": {},
   "outputs": [],
   "source": [
    "import numpy as n\n",
    "\n",
    "print(\"Helllo\")\n",
    "# Пункт №1. Создание и вывод матрицы с шагом 2.\n",
    "my_array = n.arange(10, 70, 2)\n",
    "print(\"П.1\\n\", my_array)"
   ]
  }
 ],
 "metadata": {
  "language_info": {
   "name": "python"
  }
 },
 "nbformat": 4,
 "nbformat_minor": 2
}
