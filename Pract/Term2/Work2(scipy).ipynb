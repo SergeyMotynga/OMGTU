{
 "cells": [
  {
   "cell_type": "code",
   "execution_count": 121,
   "metadata": {},
   "outputs": [
    {
     "name": "stdout",
     "output_type": "stream",
     "text": [
      "Первая производная функции: -0.332444795271589\n",
      "Вторая производная функции: -0.0204754684179909\n",
      "   0.22 |                              .                        \n",
      "        |                                                       \n",
      "        |                                                       \n",
      "        |                                                       \n",
      "        |                                                       \n",
      "        |                                                       \n",
      "        |                                                       \n",
      "        |                                                       \n",
      "        |                                                       \n",
      "        |                               .                       \n",
      " -0.055 |------------------------------------------------------/\n",
      "        |                                                    .. \n",
      "        |                                                   /   \n",
      "        |                                .                 /    \n",
      "        |                                                ..     \n",
      "        |                                               /       \n",
      "        |                                 .            /        \n",
      "        |                                            ..         \n",
      "        |                                  .        /           \n",
      "        |                                   \\     ..            \n",
      "  -0.33 |_______________________________________________________\n",
      "         -10                        0                          10\n",
      "Вычесление интеграла функции от 0 до 1: (0.7672282578889725, 1.1755496576171254e-10)\n",
      "Неопределённый интеграл: -sqrt(2)*sqrt(x)*cos(sqrt(2)*sqrt(x)) + sin(sqrt(2)*sqrt(x))\n"
     ]
    },
    {
     "name": "stderr",
     "output_type": "stream",
     "text": [
      "C:\\Users\\СерГей\\AppData\\Local\\Temp\\ipykernel_20836\\536684622.py:7: DeprecationWarning: scipy.misc.derivative is deprecated in SciPy v1.10.0; and will be completely removed in SciPy v1.12.0. You may consider using findiff: https://github.com/maroba/findiff or numdifftools: https://github.com/pbrod/numdifftools\n",
      "  df_dx = sc.misc.derivative(f, 3.5, dx=1e-2)\n",
      "C:\\Users\\СерГей\\AppData\\Local\\Temp\\ipykernel_20836\\536684622.py:9: DeprecationWarning: scipy.misc.derivative is deprecated in SciPy v1.10.0; and will be completely removed in SciPy v1.12.0. You may consider using findiff: https://github.com/maroba/findiff or numdifftools: https://github.com/pbrod/numdifftools\n",
      "  d2f_dx = sc.misc.derivative(f, 3.5, dx=1e-2, n = 2)\n",
      "C:\\Users\\СерГей\\AppData\\Local\\Temp\\ipykernel_20836\\536684622.py:13: DeprecationWarning: scipy.misc.derivative is deprecated in SciPy v1.10.0; and will be completely removed in SciPy v1.12.0. You may consider using findiff: https://github.com/maroba/findiff or numdifftools: https://github.com/pbrod/numdifftools\n",
      "  sym.plot(sc.misc.derivative(f, x))\n",
      "<lambdifygenerated-39>:2: RuntimeWarning: invalid value encountered in sqrt\n",
      "  return -0.5*sin(sqrt(2)*sqrt(x - 1.0)) + 0.5*sin(sqrt(2)*sqrt(x + 1.0))\n"
     ]
    }
   ],
   "source": [
    "import scipy as sc\n",
    "import sympy as sym\n",
    "\n",
    "def f(x):\n",
    "    return sym.sin(sym.sqrt(2*x))\n",
    "\n",
    "df_dx = sc.misc.derivative(f, 3.5, dx=1e-2)\n",
    "print('Первая производная функции:',df_dx)\n",
    "d2f_dx = sc.misc.derivative(f, 3.5, dx=1e-2, n = 2)\n",
    "print('Вторая производная функции:',d2f_dx)\n",
    "\n",
    "x = sym.symbols('x')\n",
    "sym.plot(sc.misc.derivative(f, x))\n",
    "\n",
    "print('Вычесление интеграла функции от 0 до 1:', sc.integrate.quad(f, 0, 1))\n",
    "print('Неопределённый интеграл:', sym.integrate(f(x)))"
   ]
  }
 ],
 "metadata": {
  "kernelspec": {
   "display_name": "Python 3",
   "language": "python",
   "name": "python3"
  },
  "language_info": {
   "codemirror_mode": {
    "name": "ipython",
    "version": 3
   },
   "file_extension": ".py",
   "mimetype": "text/x-python",
   "name": "python",
   "nbconvert_exporter": "python",
   "pygments_lexer": "ipython3",
   "version": "3.12.6"
  }
 },
 "nbformat": 4,
 "nbformat_minor": 2
}
