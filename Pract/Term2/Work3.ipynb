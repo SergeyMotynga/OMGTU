{
 "cells": [
  {
   "cell_type": "code",
   "execution_count": 23,
   "metadata": {},
   "outputs": [
    {
     "name": "stdout",
     "output_type": "stream",
     "text": [
      "l-разложение:\n",
      " 1\t0\t0\t0,\n",
      "0\t1\t0\t0,\n",
      "0\t0\t1\t0,\n",
      "0\t0\t0\t1\n",
      "p-разложение:\n",
      " 0\t0\t0\t1,\n",
      "1\t0\t0\t0,\n",
      "0\t1\t0\t0,\n",
      "0\t0\t1\t0\n",
      "u-разложение:\n",
      " 21\t-19\t0\t0,\n",
      "0\t6\t-5\t-2,\n",
      "0\t0\t12\t8,\n",
      "0\t0\t0\t13\n",
      "[[  3.   -1.2  -8.    8. ]\n",
      " [ 21.  -19.    0.5   0. ]\n",
      " [  7.    0.   -4.9  -2. ]\n",
      " [  1.   -2.   13.    9. ]]\n"
     ]
    }
   ],
   "source": [
    "import numpy as np\n",
    "import scipy as sc\n",
    "\n",
    "matrix= np.array([[3, -1.2, -8, 8],[21, -19, 0.5, 0],[7, 0, -4.9, -2],[1, -2, 13, 9]])\n",
    "p, l, u = sc.linalg.lu(matrix)\n",
    "l = np.round(l.astype(int))\n",
    "p = np.round(p.astype(int))\n",
    "u = np.round(u.astype(int))\n",
    "print('l-разложение:\\n',',\\n'.join(['\\t'.join([str(cell) for cell in row]) for row in l]))\n",
    "print('p-разложение:\\n',',\\n'.join(['\\t'.join([str(cell) for cell in row]) for row in p]))\n",
    "print('u-разложение:\\n',',\\n'.join(['\\t'.join([str(cell) for cell in row]) for row in u]))\n",
    "c = l.dot(u)\n",
    "print(matrix)"
   ]
  }
 ],
 "metadata": {
  "kernelspec": {
   "display_name": "Python 3",
   "language": "python",
   "name": "python3"
  },
  "language_info": {
   "codemirror_mode": {
    "name": "ipython",
    "version": 3
   },
   "file_extension": ".py",
   "mimetype": "text/x-python",
   "name": "python",
   "nbconvert_exporter": "python",
   "pygments_lexer": "ipython3",
   "version": "3.12.6"
  }
 },
 "nbformat": 4,
 "nbformat_minor": 2
}
