{
 "cells": [
  {
   "cell_type": "code",
   "execution_count": 97,
   "metadata": {},
   "outputs": [
    {
     "name": "stdout",
     "output_type": "stream",
     "text": [
      "П.1\n",
      "Матрица A:\n",
      "3.0\t-1.2\t-8.0\t8.0\n",
      "21.0\t-19.0\t0.5\t0.0\n",
      "7.0\t0.0\t-4.9\t-2.0\n",
      "1.0\t-2.0\t13.0\t9.0\n"
     ]
    }
   ],
   "source": [
    "import numpy as np\n",
    "\n",
    "#1\n",
    "print(\"П.1\")\n",
    "A = np.array([[3, -1.2, -8, 8], [21, -19, 0.5, 0], [7, 0, -4.9, -2], [1, -2, 13, 9]])\n",
    "print('Матрица A:')\n",
    "print('\\n'.join(['\\t'.join([str(cell) for cell in row]) for row in A]))"
   ]
  },
  {
   "cell_type": "code",
   "execution_count": 98,
   "metadata": {},
   "outputs": [
    {
     "name": "stdout",
     "output_type": "stream",
     "text": [
      "П.2\n",
      "P-матрица перестановок:\n",
      "0.0\t0.0\t0.0\t1.0\n",
      "1.0\t0.0\t0.0\t0.0\n",
      "0.0\t1.0\t0.0\t0.0\n",
      "0.0\t0.0\t1.0\t0.0\n",
      "\n",
      "L-нижняя треугольная матрица:\n",
      "1.0\t0.0\t0.0\t0.0\n",
      "0.333\t1.0\t0.0\t0.0\n",
      "0.048\t-0.173\t1.0\t0.0\n",
      "0.143\t0.239\t-0.567\t1.0\n",
      "\n",
      "U-верхняя треугольная матрица:\n",
      "21.0\t-19.0\t0.5\t0.0\n",
      "0.0\t6.333\t-5.067\t-2.0\n",
      "0.0\t0.0\t12.1\t8.654\n",
      "0.0\t0.0\t0.0\t13.385\n"
     ]
    }
   ],
   "source": [
    "from scipy.linalg import lu\n",
    "#2\n",
    "print(\"П.2\")\n",
    "P, L, U = lu(A)\n",
    "print('P-матрица перестановок:')\n",
    "print('\\n'.join(['\\t'.join([str(cell) for cell in row]) for row in P]))\n",
    "print('\\nL-нижняя треугольная матрица:')\n",
    "print('\\n'.join(['\\t'.join([str(cell) for cell in row]) for row in L.round(3)]))\n",
    "print('\\nU-верхняя треугольная матрица:')\n",
    "print('\\n'.join(['\\t'.join([str(cell) for cell in row]) for row in U.round(3)]))"
   ]
  },
  {
   "cell_type": "code",
   "execution_count": 99,
   "metadata": {},
   "outputs": [
    {
     "name": "stdout",
     "output_type": "stream",
     "text": [
      "П.3\n",
      "Произведение по главной диагонали L:  1.0\n",
      "Произведение по главное диагонали U:  21539.82000000001\n",
      "Определитель обратной матрицы к P:  -1.0\n",
      "Определитель A:  -21539.82000000001\n"
     ]
    }
   ],
   "source": [
    "#3\n",
    "print(\"П.3\")\n",
    "det_P = np.linalg.det(P)\n",
    "if det_P == 0:\n",
    "    print(\"Невозможно найти обратную матрицу к p, определитель равен нулю\")\n",
    "else:\n",
    "    det_L = np.linalg.det(L) #произведение элементов на главное диагонали = определитель треугольной матрицы\n",
    "    det_U = np.linalg.det(U) #произведение элементов на главное диагонали = определитель треугольной матрицы\n",
    "    inv_P = np.linalg.inv(P) #обратная матрица к P\n",
    "    det_inv_P = np.linalg.det(inv_P) # Определитель обратной матрицы к P\n",
    "    print(\"Произведение по главной диагонали L: \", det_L)\n",
    "    print(\"Произведение по главное диагонали U: \", det_U)\n",
    "    print(\"Определитель обратной матрицы к P: \", det_inv_P)\n",
    "    det_A = det_L * det_U * det_inv_P\n",
    "    print(\"Определитель A: \", det_A)"
   ]
  },
  {
   "cell_type": "code",
   "execution_count": 100,
   "metadata": {},
   "outputs": [
    {
     "name": "stdout",
     "output_type": "stream",
     "text": [
      "П.4\n",
      "Равномерное распределение:\n",
      " 18 77 14 61 23 79 2 27 11 97 13 11 66 65 29 65 73 75 27 97 71 70 46 32 90 52 47 87 39 2 83 100 53 93 48 75 27 82 57 29 29 30 8 94 13 56 54 27 75 37 84 98 37 13 3 17 91 89 19 1 82 19 96 52 81 68 89 7 35 61 93 40 8 54 48 24 96 2 10 43 37 66 99 63 47 56 36 28 5 32 98 31 94 77 71 22 94 76 55 45\n",
      "Нормальное распределение:\n",
      " 49 61 48 60 40 57 50 61 47 47 45 63 39 74 54 40 66 40 55 65 48 53 56 47 38 40 62 48 50 60 57 70 47 60 60 41 35 61 68 63 40 45 43 50 51 41 64 33 51 48 46 49 44 50 51 50 43 59 47 55 46 53 51 52 37 68 59 56 50 43 50 62 46 25 58 42 45 65 64 56 54 54 48 46 39 54 44 61 59 37 66 37 40 55 43 39 57 61 41 65\n"
     ]
    }
   ],
   "source": [
    "#4\n",
    "print(\"П.4\")\n",
    "distrib_uniform = np.random.randint(1, 101, 100) #генерация 100 случайных чисел от 1 до 100 вкл (равномерное распределение)\n",
    "distrib_normal = np.round(np.random.normal(50, 8.94, 100)).astype(int) #генерирует 100 случайных чисел со средн. знач 50 и отклонением от него 8.94\n",
    "print(\"Равномерное распределение:\\n\", *distrib_uniform)\n",
    "print(\"Нормальное распределение:\\n\", *distrib_normal)"
   ]
  },
  {
   "cell_type": "code",
   "execution_count": 101,
   "metadata": {},
   "outputs": [
    {
     "name": "stdout",
     "output_type": "stream",
     "text": [
      "П.5\n",
      "a.\n",
      "Среднее для равномерного:  51.28\n",
      "Среднее для нормального:  51.13\n",
      "\n",
      "b.\n",
      "Мода для равномерного:  27\n",
      "Мода для равномерного:  50\n",
      "\n",
      "c.\n",
      "Медиана для равномерного:  52.0\n",
      "Медиана для нормального:  50.0\n",
      "\n",
      "d.\n",
      "Минимум для равномерного:  1\n",
      "Минимум для нормального:  25\n",
      "\n",
      "e.\n",
      "Максимум для равномерного:  100\n",
      "Максимум для нормального:  74\n",
      "\n",
      "f.\n",
      "Стандартное отклонение для равномерного:  30.131405543054242\n",
      "Стандартное отклонение для нормального:  9.469588164223405\n"
     ]
    }
   ],
   "source": [
    "from statistics import mode, median\n",
    "\n",
    "#5\n",
    "print(\"П.5\")\n",
    "print(\"a.\")\n",
    "print(\"Среднее для равномерного: \", np.mean(distrib_uniform)) \n",
    "print(\"Среднее для нормального: \", np.mean(distrib_normal))\n",
    "print(\"\\nb.\")\n",
    "print(\"Мода для равномерного: \", mode(distrib_uniform)) #число которое встречается наиболее часто\n",
    "print(\"Мода для равномерного: \", mode(distrib_normal))\n",
    "print(\"\\nc.\")\n",
    "print(\"Медиана для равномерного: \", median(distrib_uniform))\n",
    "print(\"Медиана для нормального: \", median(distrib_normal))\n",
    "print(\"\\nd.\")\n",
    "print(\"Минимум для равномерного: \", np.min(distrib_uniform))\n",
    "print(\"Минимум для нормального: \", np.min(distrib_normal))\n",
    "print(\"\\ne.\")\n",
    "print(\"Максимум для равномерного: \", np.max(distrib_uniform))\n",
    "print(\"Максимум для нормального: \", np.max(distrib_normal))\n",
    "print(\"\\nf.\")\n",
    "print(\"Стандартное отклонение для равномерного: \", np.std(distrib_uniform))\n",
    "print(\"Стандартное отклонение для нормального: \", np.std(distrib_normal))"
   ]
  },
  {
   "cell_type": "code",
   "execution_count": 102,
   "metadata": {},
   "outputs": [
    {
     "name": "stdout",
     "output_type": "stream",
     "text": [
      "П.6\n",
      "p-value: 0.7560624335448896\n"
     ]
    }
   ],
   "source": [
    "from scipy import stats\n",
    "\n",
    "#6\n",
    "print(\"П.6\")\n",
    "chi2, p_value = stats.chisquare(np.bincount(distrib_uniform)) #bincount подсчитывает кол-во вхождений каждого целого числа\n",
    "print(f\"p-value: {p_value}\")"
   ]
  }
 ],
 "metadata": {
  "kernelspec": {
   "display_name": "Python 3",
   "language": "python",
   "name": "python3"
  },
  "language_info": {
   "codemirror_mode": {
    "name": "ipython",
    "version": 3
   },
   "file_extension": ".py",
   "mimetype": "text/x-python",
   "name": "python",
   "nbconvert_exporter": "python",
   "pygments_lexer": "ipython3",
   "version": "3.12.6"
  },
  "polyglot_notebook": {
   "kernelInfo": {
    "defaultKernelName": "csharp",
    "items": [
     {
      "aliases": [],
      "languageName": "csharp",
      "name": "csharp"
     }
    ]
   }
  }
 },
 "nbformat": 4,
 "nbformat_minor": 2
}
